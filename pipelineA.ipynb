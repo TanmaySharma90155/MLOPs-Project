{
 "cells": [
  {
   "cell_type": "code",
   "execution_count": 1,
   "id": "0525204a",
   "metadata": {},
   "outputs": [
    {
     "name": "stdout",
     "output_type": "stream",
     "text": [
      "Requirement already satisfied: zenml[server] in c:\\users\\kiit\\desktop\\mlops\\zenml-env\\lib\\site-packages (0.82.0)\n",
      "Requirement already satisfied: Jinja2 in c:\\users\\kiit\\desktop\\mlops\\zenml-env\\lib\\site-packages (from zenml[server]) (3.1.6)\n",
      "Requirement already satisfied: alembic<1.9.0,>=1.8.1 in c:\\users\\kiit\\desktop\\mlops\\zenml-env\\lib\\site-packages (from zenml[server]) (1.8.1)\n",
      "Requirement already satisfied: bcrypt==4.0.1 in c:\\users\\kiit\\desktop\\mlops\\zenml-env\\lib\\site-packages (from zenml[server]) (4.0.1)\n",
      "Requirement already satisfied: click<8.1.8,>=8.0.1 in c:\\users\\kiit\\desktop\\mlops\\zenml-env\\lib\\site-packages (from zenml[server]) (8.1.7)\n",
      "Requirement already satisfied: cloudpickle<3,>=2.0.0 in c:\\users\\kiit\\desktop\\mlops\\zenml-env\\lib\\site-packages (from zenml[server]) (2.2.1)\n",
      "Requirement already satisfied: distro<2.0.0,>=1.6.0 in c:\\users\\kiit\\desktop\\mlops\\zenml-env\\lib\\site-packages (from zenml[server]) (1.9.0)\n",
      "Requirement already satisfied: docker<7.2.0,>=7.1.0 in c:\\users\\kiit\\desktop\\mlops\\zenml-env\\lib\\site-packages (from zenml[server]) (7.1.0)\n",
      "Requirement already satisfied: fastapi<=0.115.8,>=0.100 in c:\\users\\kiit\\desktop\\mlops\\zenml-env\\lib\\site-packages (from zenml[server]) (0.115.8)\n",
      "Requirement already satisfied: gitpython<4.0.0,>=3.1.18 in c:\\users\\kiit\\desktop\\mlops\\zenml-env\\lib\\site-packages (from zenml[server]) (3.1.44)\n",
      "Requirement already satisfied: ipinfo>=4.4.3 in c:\\users\\kiit\\desktop\\mlops\\zenml-env\\lib\\site-packages (from zenml[server]) (5.1.1)\n",
      "Requirement already satisfied: itsdangerous<2.3.0,>=2.2.0 in c:\\users\\kiit\\desktop\\mlops\\zenml-env\\lib\\site-packages (from zenml[server]) (2.2.0)\n",
      "Requirement already satisfied: orjson<3.11.0,>=3.10.0 in c:\\users\\kiit\\desktop\\mlops\\zenml-env\\lib\\site-packages (from zenml[server]) (3.10.18)\n",
      "Requirement already satisfied: packaging>=24.1 in c:\\users\\kiit\\desktop\\mlops\\zenml-env\\lib\\site-packages (from zenml[server]) (25.0)\n",
      "Requirement already satisfied: passlib[bcrypt]<1.8.0,>=1.7.4 in c:\\users\\kiit\\desktop\\mlops\\zenml-env\\lib\\site-packages (from zenml[server]) (1.7.4)\n",
      "Requirement already satisfied: psutil>=5.0.0 in c:\\users\\kiit\\desktop\\mlops\\zenml-env\\lib\\site-packages (from zenml[server]) (7.0.0)\n",
      "Requirement already satisfied: pydantic<2.11.2,>=2.0 in c:\\users\\kiit\\desktop\\mlops\\zenml-env\\lib\\site-packages (from zenml[server]) (2.11.1)\n",
      "Requirement already satisfied: pydantic-settings in c:\\users\\kiit\\desktop\\mlops\\zenml-env\\lib\\site-packages (from zenml[server]) (2.9.1)\n",
      "Requirement already satisfied: pyjwt[crypto]==2.7.* in c:\\users\\kiit\\desktop\\mlops\\zenml-env\\lib\\site-packages (from zenml[server]) (2.7.0)\n",
      "Requirement already satisfied: pymysql<1.2.0,>=1.1.1 in c:\\users\\kiit\\desktop\\mlops\\zenml-env\\lib\\site-packages (from zenml[server]) (1.1.1)\n",
      "Requirement already satisfied: python-dateutil<3.0.0,>=2.8.1 in c:\\users\\kiit\\desktop\\mlops\\zenml-env\\lib\\site-packages (from zenml[server]) (2.9.0.post0)\n",
      "Requirement already satisfied: python-multipart<0.1.0,>=0.0.9 in c:\\users\\kiit\\desktop\\mlops\\zenml-env\\lib\\site-packages (from zenml[server]) (0.0.20)\n",
      "Requirement already satisfied: pyyaml>=6.0.1 in c:\\users\\kiit\\desktop\\mlops\\zenml-env\\lib\\site-packages (from zenml[server]) (6.0.2)\n",
      "Requirement already satisfied: rich[jupyter]>=12.0.0 in c:\\users\\kiit\\desktop\\mlops\\zenml-env\\lib\\site-packages (from zenml[server]) (14.0.0)\n",
      "Requirement already satisfied: secure<0.4.0,>=0.3.0 in c:\\users\\kiit\\desktop\\mlops\\zenml-env\\lib\\site-packages (from zenml[server]) (0.3.0)\n",
      "Requirement already satisfied: setuptools in c:\\users\\kiit\\desktop\\mlops\\zenml-env\\lib\\site-packages (from zenml[server]) (65.5.0)\n",
      "Requirement already satisfied: sqlalchemy<3.0.0,>=2.0.0 in c:\\users\\kiit\\desktop\\mlops\\zenml-env\\lib\\site-packages (from zenml[server]) (2.0.40)\n",
      "Requirement already satisfied: sqlalchemy_utils in c:\\users\\kiit\\desktop\\mlops\\zenml-env\\lib\\site-packages (from zenml[server]) (0.41.2)\n",
      "Requirement already satisfied: sqlmodel==0.0.18 in c:\\users\\kiit\\desktop\\mlops\\zenml-env\\lib\\site-packages (from zenml[server]) (0.0.18)\n",
      "Requirement already satisfied: tldextract<5.2.0,>=5.1.0 in c:\\users\\kiit\\desktop\\mlops\\zenml-env\\lib\\site-packages (from zenml[server]) (5.1.3)\n",
      "Requirement already satisfied: uvicorn[standard]>=0.17.5 in c:\\users\\kiit\\desktop\\mlops\\zenml-env\\lib\\site-packages (from zenml[server]) (0.34.2)\n",
      "Requirement already satisfied: cryptography>=3.4.0 in c:\\users\\kiit\\desktop\\mlops\\zenml-env\\lib\\site-packages (from pyjwt[crypto]==2.7.*->zenml[server]) (44.0.3)\n",
      "Requirement already satisfied: Mako in c:\\users\\kiit\\desktop\\mlops\\zenml-env\\lib\\site-packages (from alembic<1.9.0,>=1.8.1->zenml[server]) (1.3.10)\n",
      "Requirement already satisfied: colorama in c:\\users\\kiit\\desktop\\mlops\\zenml-env\\lib\\site-packages (from click<8.1.8,>=8.0.1->zenml[server]) (0.4.6)\n",
      "Requirement already satisfied: pywin32>=304 in c:\\users\\kiit\\desktop\\mlops\\zenml-env\\lib\\site-packages (from docker<7.2.0,>=7.1.0->zenml[server]) (310)\n",
      "Requirement already satisfied: requests>=2.26.0 in c:\\users\\kiit\\desktop\\mlops\\zenml-env\\lib\\site-packages (from docker<7.2.0,>=7.1.0->zenml[server]) (2.32.3)\n",
      "Requirement already satisfied: urllib3>=1.26.0 in c:\\users\\kiit\\desktop\\mlops\\zenml-env\\lib\\site-packages (from docker<7.2.0,>=7.1.0->zenml[server]) (2.4.0)\n",
      "Requirement already satisfied: starlette<0.46.0,>=0.40.0 in c:\\users\\kiit\\desktop\\mlops\\zenml-env\\lib\\site-packages (from fastapi<=0.115.8,>=0.100->zenml[server]) (0.45.3)\n",
      "Requirement already satisfied: typing-extensions>=4.8.0 in c:\\users\\kiit\\desktop\\mlops\\zenml-env\\lib\\site-packages (from fastapi<=0.115.8,>=0.100->zenml[server]) (4.13.2)\n",
      "Requirement already satisfied: gitdb<5,>=4.0.1 in c:\\users\\kiit\\desktop\\mlops\\zenml-env\\lib\\site-packages (from gitpython<4.0.0,>=3.1.18->zenml[server]) (4.0.12)\n",
      "Requirement already satisfied: cachetools in c:\\users\\kiit\\desktop\\mlops\\zenml-env\\lib\\site-packages (from ipinfo>=4.4.3->zenml[server]) (5.5.2)\n",
      "Requirement already satisfied: aiohttp<=4 in c:\\users\\kiit\\desktop\\mlops\\zenml-env\\lib\\site-packages (from ipinfo>=4.4.3->zenml[server]) (3.11.18)\n",
      "Requirement already satisfied: annotated-types>=0.6.0 in c:\\users\\kiit\\desktop\\mlops\\zenml-env\\lib\\site-packages (from pydantic<2.11.2,>=2.0->zenml[server]) (0.7.0)\n",
      "Requirement already satisfied: pydantic-core==2.33.0 in c:\\users\\kiit\\desktop\\mlops\\zenml-env\\lib\\site-packages (from pydantic<2.11.2,>=2.0->zenml[server]) (2.33.0)\n",
      "Requirement already satisfied: typing-inspection>=0.4.0 in c:\\users\\kiit\\desktop\\mlops\\zenml-env\\lib\\site-packages (from pydantic<2.11.2,>=2.0->zenml[server]) (0.4.0)\n",
      "Requirement already satisfied: six>=1.5 in c:\\users\\kiit\\desktop\\mlops\\zenml-env\\lib\\site-packages (from python-dateutil<3.0.0,>=2.8.1->zenml[server]) (1.17.0)\n",
      "Requirement already satisfied: ipywidgets<9,>=7.5.1 in c:\\users\\kiit\\desktop\\mlops\\zenml-env\\lib\\site-packages (from rich[jupyter]>=12.0.0->zenml[server]) (8.1.7)\n",
      "Requirement already satisfied: markdown-it-py>=2.2.0 in c:\\users\\kiit\\desktop\\mlops\\zenml-env\\lib\\site-packages (from rich[jupyter]>=12.0.0->zenml[server]) (3.0.0)\n",
      "Requirement already satisfied: pygments<3.0.0,>=2.13.0 in c:\\users\\kiit\\desktop\\mlops\\zenml-env\\lib\\site-packages (from rich[jupyter]>=12.0.0->zenml[server]) (2.19.1)\n",
      "Requirement already satisfied: greenlet>=1 in c:\\users\\kiit\\desktop\\mlops\\zenml-env\\lib\\site-packages (from sqlalchemy<3.0.0,>=2.0.0->zenml[server]) (3.2.1)\n",
      "Requirement already satisfied: idna in c:\\users\\kiit\\desktop\\mlops\\zenml-env\\lib\\site-packages (from tldextract<5.2.0,>=5.1.0->zenml[server]) (3.10)\n",
      "Requirement already satisfied: requests-file>=1.4 in c:\\users\\kiit\\desktop\\mlops\\zenml-env\\lib\\site-packages (from tldextract<5.2.0,>=5.1.0->zenml[server]) (2.1.0)\n",
      "Requirement already satisfied: filelock>=3.0.8 in c:\\users\\kiit\\desktop\\mlops\\zenml-env\\lib\\site-packages (from tldextract<5.2.0,>=5.1.0->zenml[server]) (3.18.0)\n",
      "Requirement already satisfied: h11>=0.8 in c:\\users\\kiit\\desktop\\mlops\\zenml-env\\lib\\site-packages (from uvicorn[standard]>=0.17.5->zenml[server]) (0.16.0)\n",
      "Requirement already satisfied: httptools>=0.6.3 in c:\\users\\kiit\\desktop\\mlops\\zenml-env\\lib\\site-packages (from uvicorn[standard]>=0.17.5->zenml[server]) (0.6.4)\n",
      "Requirement already satisfied: python-dotenv>=0.13 in c:\\users\\kiit\\desktop\\mlops\\zenml-env\\lib\\site-packages (from uvicorn[standard]>=0.17.5->zenml[server]) (1.1.0)\n",
      "Requirement already satisfied: watchfiles>=0.13 in c:\\users\\kiit\\desktop\\mlops\\zenml-env\\lib\\site-packages (from uvicorn[standard]>=0.17.5->zenml[server]) (1.0.5)\n",
      "Requirement already satisfied: websockets>=10.4 in c:\\users\\kiit\\desktop\\mlops\\zenml-env\\lib\\site-packages (from uvicorn[standard]>=0.17.5->zenml[server]) (15.0.1)\n",
      "Requirement already satisfied: MarkupSafe>=2.0 in c:\\users\\kiit\\desktop\\mlops\\zenml-env\\lib\\site-packages (from Jinja2->zenml[server]) (3.0.2)\n",
      "Requirement already satisfied: aiohappyeyeballs>=2.3.0 in c:\\users\\kiit\\desktop\\mlops\\zenml-env\\lib\\site-packages (from aiohttp<=4->ipinfo>=4.4.3->zenml[server]) (2.6.1)\n",
      "Requirement already satisfied: aiosignal>=1.1.2 in c:\\users\\kiit\\desktop\\mlops\\zenml-env\\lib\\site-packages (from aiohttp<=4->ipinfo>=4.4.3->zenml[server]) (1.3.2)\n",
      "Requirement already satisfied: attrs>=17.3.0 in c:\\users\\kiit\\desktop\\mlops\\zenml-env\\lib\\site-packages (from aiohttp<=4->ipinfo>=4.4.3->zenml[server]) (25.3.0)\n",
      "Requirement already satisfied: frozenlist>=1.1.1 in c:\\users\\kiit\\desktop\\mlops\\zenml-env\\lib\\site-packages (from aiohttp<=4->ipinfo>=4.4.3->zenml[server]) (1.6.0)\n",
      "Requirement already satisfied: multidict<7.0,>=4.5 in c:\\users\\kiit\\desktop\\mlops\\zenml-env\\lib\\site-packages (from aiohttp<=4->ipinfo>=4.4.3->zenml[server]) (6.4.3)\n",
      "Requirement already satisfied: propcache>=0.2.0 in c:\\users\\kiit\\desktop\\mlops\\zenml-env\\lib\\site-packages (from aiohttp<=4->ipinfo>=4.4.3->zenml[server]) (0.3.1)\n",
      "Requirement already satisfied: yarl<2.0,>=1.17.0 in c:\\users\\kiit\\desktop\\mlops\\zenml-env\\lib\\site-packages (from aiohttp<=4->ipinfo>=4.4.3->zenml[server]) (1.20.0)\n",
      "Requirement already satisfied: cffi>=1.12 in c:\\users\\kiit\\desktop\\mlops\\zenml-env\\lib\\site-packages (from cryptography>=3.4.0->pyjwt[crypto]==2.7.*->zenml[server]) (1.17.1)\n",
      "Requirement already satisfied: smmap<6,>=3.0.1 in c:\\users\\kiit\\desktop\\mlops\\zenml-env\\lib\\site-packages (from gitdb<5,>=4.0.1->gitpython<4.0.0,>=3.1.18->zenml[server]) (5.0.2)\n",
      "Requirement already satisfied: comm>=0.1.3 in c:\\users\\kiit\\desktop\\mlops\\zenml-env\\lib\\site-packages (from ipywidgets<9,>=7.5.1->rich[jupyter]>=12.0.0->zenml[server]) (0.2.2)\n",
      "Requirement already satisfied: ipython>=6.1.0 in c:\\users\\kiit\\desktop\\mlops\\zenml-env\\lib\\site-packages (from ipywidgets<9,>=7.5.1->rich[jupyter]>=12.0.0->zenml[server]) (9.2.0)\n",
      "Requirement already satisfied: traitlets>=4.3.1 in c:\\users\\kiit\\desktop\\mlops\\zenml-env\\lib\\site-packages (from ipywidgets<9,>=7.5.1->rich[jupyter]>=12.0.0->zenml[server]) (5.14.3)\n",
      "Requirement already satisfied: widgetsnbextension~=4.0.14 in c:\\users\\kiit\\desktop\\mlops\\zenml-env\\lib\\site-packages (from ipywidgets<9,>=7.5.1->rich[jupyter]>=12.0.0->zenml[server]) (4.0.14)\n",
      "Requirement already satisfied: jupyterlab_widgets~=3.0.15 in c:\\users\\kiit\\desktop\\mlops\\zenml-env\\lib\\site-packages (from ipywidgets<9,>=7.5.1->rich[jupyter]>=12.0.0->zenml[server]) (3.0.15)\n",
      "Requirement already satisfied: mdurl~=0.1 in c:\\users\\kiit\\desktop\\mlops\\zenml-env\\lib\\site-packages (from markdown-it-py>=2.2.0->rich[jupyter]>=12.0.0->zenml[server]) (0.1.2)\n",
      "Requirement already satisfied: charset-normalizer<4,>=2 in c:\\users\\kiit\\desktop\\mlops\\zenml-env\\lib\\site-packages (from requests>=2.26.0->docker<7.2.0,>=7.1.0->zenml[server]) (3.4.2)\n",
      "Requirement already satisfied: certifi>=2017.4.17 in c:\\users\\kiit\\desktop\\mlops\\zenml-env\\lib\\site-packages (from requests>=2.26.0->docker<7.2.0,>=7.1.0->zenml[server]) (2025.4.26)\n",
      "Requirement already satisfied: anyio<5,>=3.6.2 in c:\\users\\kiit\\desktop\\mlops\\zenml-env\\lib\\site-packages (from starlette<0.46.0,>=0.40.0->fastapi<=0.115.8,>=0.100->zenml[server]) (4.9.0)\n",
      "Requirement already satisfied: sniffio>=1.1 in c:\\users\\kiit\\desktop\\mlops\\zenml-env\\lib\\site-packages (from anyio<5,>=3.6.2->starlette<0.46.0,>=0.40.0->fastapi<=0.115.8,>=0.100->zenml[server]) (1.3.1)\n",
      "Requirement already satisfied: pycparser in c:\\users\\kiit\\desktop\\mlops\\zenml-env\\lib\\site-packages (from cffi>=1.12->cryptography>=3.4.0->pyjwt[crypto]==2.7.*->zenml[server]) (2.22)\n",
      "Requirement already satisfied: decorator in c:\\users\\kiit\\desktop\\mlops\\zenml-env\\lib\\site-packages (from ipython>=6.1.0->ipywidgets<9,>=7.5.1->rich[jupyter]>=12.0.0->zenml[server]) (5.2.1)\n",
      "Requirement already satisfied: ipython-pygments-lexers in c:\\users\\kiit\\desktop\\mlops\\zenml-env\\lib\\site-packages (from ipython>=6.1.0->ipywidgets<9,>=7.5.1->rich[jupyter]>=12.0.0->zenml[server]) (1.1.1)\n",
      "Requirement already satisfied: jedi>=0.16 in c:\\users\\kiit\\desktop\\mlops\\zenml-env\\lib\\site-packages (from ipython>=6.1.0->ipywidgets<9,>=7.5.1->rich[jupyter]>=12.0.0->zenml[server]) (0.19.2)\n",
      "Requirement already satisfied: matplotlib-inline in c:\\users\\kiit\\desktop\\mlops\\zenml-env\\lib\\site-packages (from ipython>=6.1.0->ipywidgets<9,>=7.5.1->rich[jupyter]>=12.0.0->zenml[server]) (0.1.7)\n",
      "Requirement already satisfied: prompt_toolkit<3.1.0,>=3.0.41 in c:\\users\\kiit\\desktop\\mlops\\zenml-env\\lib\\site-packages (from ipython>=6.1.0->ipywidgets<9,>=7.5.1->rich[jupyter]>=12.0.0->zenml[server]) (3.0.51)\n",
      "Requirement already satisfied: stack_data in c:\\users\\kiit\\desktop\\mlops\\zenml-env\\lib\\site-packages (from ipython>=6.1.0->ipywidgets<9,>=7.5.1->rich[jupyter]>=12.0.0->zenml[server]) (0.6.3)\n",
      "Requirement already satisfied: parso<0.9.0,>=0.8.4 in c:\\users\\kiit\\desktop\\mlops\\zenml-env\\lib\\site-packages (from jedi>=0.16->ipython>=6.1.0->ipywidgets<9,>=7.5.1->rich[jupyter]>=12.0.0->zenml[server]) (0.8.4)\n",
      "Requirement already satisfied: wcwidth in c:\\users\\kiit\\desktop\\mlops\\zenml-env\\lib\\site-packages (from prompt_toolkit<3.1.0,>=3.0.41->ipython>=6.1.0->ipywidgets<9,>=7.5.1->rich[jupyter]>=12.0.0->zenml[server]) (0.2.13)\n",
      "Requirement already satisfied: executing>=1.2.0 in c:\\users\\kiit\\desktop\\mlops\\zenml-env\\lib\\site-packages (from stack_data->ipython>=6.1.0->ipywidgets<9,>=7.5.1->rich[jupyter]>=12.0.0->zenml[server]) (2.2.0)\n",
      "Requirement already satisfied: asttokens>=2.1.0 in c:\\users\\kiit\\desktop\\mlops\\zenml-env\\lib\\site-packages (from stack_data->ipython>=6.1.0->ipywidgets<9,>=7.5.1->rich[jupyter]>=12.0.0->zenml[server]) (3.0.0)\n",
      "Requirement already satisfied: pure-eval in c:\\users\\kiit\\desktop\\mlops\\zenml-env\\lib\\site-packages (from stack_data->ipython>=6.1.0->ipywidgets<9,>=7.5.1->rich[jupyter]>=12.0.0->zenml[server]) (0.2.3)\n",
      "Note: you may need to restart the kernel to use updated packages.\n"
     ]
    },
    {
     "name": "stderr",
     "output_type": "stream",
     "text": [
      "\n",
      "[notice] A new release of pip available: 22.3.1 -> 25.1.1\n",
      "[notice] To update, run: python.exe -m pip install --upgrade pip\n"
     ]
    },
    {
     "name": "stdout",
     "output_type": "stream",
     "text": [
      "⠋ Installing integrations...\n",
      "⠙ Installing integrations...\n",
      "⠹ Installing integrations...\n",
      "⠸ Installing integrations...\n",
      "⠼ Installing integrations...\n",
      "⠴ Installing integrations...\n",
      "⠧ Installing integrations...\n",
      "⠇ Installing integrations...\n",
      "⠏ Installing integrations...\n",
      "⠋ Installing integrations...\n",
      "⠙ Installing integrations...\n",
      "⠹ Installing integrations...\n",
      "⠹ Installing integrations...\n",
      "\n"
     ]
    }
   ],
   "source": [
    "%pip install \"zenml[server]\"\n",
    "!zenml integration install sklearn -y\n",
    "\n",
    "import IPython\n",
    "\n"
   ]
  },
  {
   "cell_type": "code",
   "execution_count": 2,
   "id": "467375fb",
   "metadata": {},
   "outputs": [
    {
     "name": "stdout",
     "output_type": "stream",
     "text": [
      "Found existing ZenML repository at path 'c:\\Users\\KIIT\\Desktop\\MLOPS'.\n",
      "⠋ Initializing ZenML repository at c:\\Users\\KIIT\\Desktop\\MLOPS.\n",
      "\n",
      "⠋ Initializing ZenML repository at c:\\Users\\KIIT\\Desktop\\MLOPS.\n",
      "\n",
      "\n"
     ]
    }
   ],
   "source": [
    "!rem -rf .zen  \n",
    "!zenml init "
   ]
  },
  {
   "cell_type": "markdown",
   "id": "ebddbba1",
   "metadata": {},
   "source": [
    "Dummy code\n"
   ]
  },
  {
   "cell_type": "code",
   "execution_count": 3,
   "id": "1982acf7",
   "metadata": {},
   "outputs": [
    {
     "name": "stdout",
     "output_type": "stream",
     "text": [
      "The accuracy :   0.9583333333333334\n"
     ]
    }
   ],
   "source": [
    "import numpy as np\n",
    "from sklearn.base import ClassifierMixin\n",
    "from sklearn.svm import SVC\n",
    "from sklearn.datasets import load_digits\n",
    "from sklearn.model_selection import train_test_split\n",
    "\n",
    "def train_test () -> None:\n",
    "    digits = load_digits()\n",
    "    data = digits.images.reshape((len(digits.images), -1))\n",
    "    X_train, X_test, y_train, y_test = train_test_split(\n",
    "        data, digits.target, test_size=0.2, shuffle=False\n",
    "    )\n",
    "    model = SVC(gamma=0.001)\n",
    "    model.fit(X_train, y_train)\n",
    "    test_acc = model.score(X_test, y_test)\n",
    "    print(\"The accuracy :  \" ,test_acc)\n",
    "\n",
    "train_test()"
   ]
  },
  {
   "cell_type": "code",
   "execution_count": 4,
   "id": "446cf631",
   "metadata": {},
   "outputs": [],
   "source": [
    "from zenml import step\n",
    "from typing_extensions import Annotated\n",
    "from sklearn.base import ClassifierMixin\n",
    "import pandas as pd\n",
    "import numpy as np\n",
    "from typing import Tuple \n",
    "\n",
    "@step\n",
    "def importer() -> Tuple [\n",
    "    Annotated[np.ndarray, \"X_train\"],\n",
    "    Annotated[np.ndarray, \"X_test\"],\n",
    "    Annotated[np.ndarray, \"y_train\"],\n",
    "    Annotated[np.ndarray, \"y_test\"],\n",
    "]:\n",
    "    digits = load_digits()\n",
    "    data = digits.images.reshape((len(digits.images), -1))\n",
    "    X_train, X_test, y_train, y_test = train_test_split(\n",
    "        data, digits.target, test_size=0.2, shuffle=False\n",
    "    )\n",
    "\n",
    "    return X_train, X_test, y_train, y_test\n",
    "\n",
    "@step\n",
    "def svc_trainer(\n",
    "    X_train : np.ndarray,\n",
    "    y_train: np.ndarray,\n",
    ") -> ClassifierMixin:\n",
    "    model = SVC(gamma=0.001)\n",
    "    model.fit(X_train, y_train)\n",
    "    return model\n",
    "\n",
    "\n",
    "@step\n",
    "def evaluator(\n",
    "    X_test: np.ndarray,\n",
    "    y_test: np.ndarray,\n",
    "    model:ClassifierMixin,\n",
    ") -> float:\n",
    "    test_acc = model.score(X_test, y_test)\n",
    "    print(\"Test accurace\" , test_acc)\n",
    "    return test_acc"
   ]
  },
  {
   "cell_type": "code",
   "execution_count": 5,
   "id": "450ff72d",
   "metadata": {},
   "outputs": [],
   "source": [
    "from zenml import pipeline\n",
    "\n",
    "@pipeline\n",
    "def digits_pipeline():\n",
    "    X_train, X_test, y_train, y_test = importer()\n",
    "    model = svc_trainer(X_train=X_train, y_train=y_train)\n",
    "    evaluator(X_test= X_test, y_test = y_test, model = model)"
   ]
  },
  {
   "cell_type": "code",
   "execution_count": 6,
   "id": "edd101ae",
   "metadata": {},
   "outputs": [
    {
     "name": "stdout",
     "output_type": "stream",
     "text": [
      "\u001b[1;35mInitiating a new run for the pipeline: \u001b[0m\u001b[1;36mdigits_pipeline\u001b[1;35m.\u001b[0m\n",
      "\u001b[1;35mUsing user: \u001b[0m\u001b[1;36mdefault\u001b[1;35m\u001b[0m\n",
      "\u001b[1;35mUsing stack: \u001b[0m\u001b[1;36mdefault\u001b[1;35m\u001b[0m\n",
      "\u001b[1;35m  artifact_store: \u001b[0m\u001b[1;36mdefault\u001b[1;35m\u001b[0m\n",
      "\u001b[1;35m  orchestrator: \u001b[0m\u001b[1;36mdefault\u001b[1;35m\u001b[0m\n",
      "\u001b[1;35mYou can visualize your pipeline runs in the \u001b[0m\u001b[1;36mZenML Dashboard\u001b[1;35m. In order to try it locally, please run \u001b[0m\u001b[1;36mzenml login --local\u001b[1;35m.\u001b[0m\n",
      "\u001b[1;35mUsing cached version of step \u001b[0m\u001b[1;36mimporter\u001b[1;35m.\u001b[0m\n",
      "\u001b[1;35mUsing cached version of step \u001b[0m\u001b[1;36msvc_trainer\u001b[1;35m.\u001b[0m\n",
      "\u001b[1;35mUsing cached version of step \u001b[0m\u001b[1;36mevaluator\u001b[1;35m.\u001b[0m\n",
      "\u001b[1;35mAll steps of the pipeline run were cached.\u001b[0m\n"
     ]
    }
   ],
   "source": [
    "digits_svc_pipeline = digits_pipeline()"
   ]
  }
 ],
 "metadata": {
  "kernelspec": {
   "display_name": "zenml-env",
   "language": "python",
   "name": "python3"
  },
  "language_info": {
   "codemirror_mode": {
    "name": "ipython",
    "version": 3
   },
   "file_extension": ".py",
   "mimetype": "text/x-python",
   "name": "python",
   "nbconvert_exporter": "python",
   "pygments_lexer": "ipython3",
   "version": "3.11.3"
  }
 },
 "nbformat": 4,
 "nbformat_minor": 5
}
